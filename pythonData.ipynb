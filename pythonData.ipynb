{
 "cells": [
  {
   "cell_type": "markdown",
   "id": "28905910-adfa-4f37-a7e7-c70a68d699e4",
   "metadata": {},
   "source": [
    "## Data Analysis and Visualization in Python for Ecologists\n",
    "# Starting With Data"
   ]
  },
  {
   "cell_type": "markdown",
   "id": "9c80985d-d37d-47f0-8b4a-10defa8d090b",
   "metadata": {},
   "source": [
    "<br><br>\n",
    "#### Download the data\n",
    "**Run the next code cell to bring today's data into our Google Colab workspace.**\n",
    "<br>This is a Jupyter Notebook. To run a code cell, click in the cell and either click on the \"play\" arrow or type shift+enter (shift+return on a Mac)."
   ]
  },
  {
   "cell_type": "code",
   "execution_count": null,
   "id": "03d86241-0755-4de5-bc8f-3f9e18eca83d",
   "metadata": {},
   "outputs": [],
   "source": [
    "!wget https://raw.githubusercontent.com/aGitHasNoName/carpentriesTraining/main/surveys.csv"
   ]
  },
  {
   "cell_type": "code",
   "execution_count": null,
   "id": "52c1ddeb-617c-4165-ac02-d5a2c0581cd9",
   "metadata": {},
   "outputs": [],
   "source": []
  },
  {
   "cell_type": "code",
   "execution_count": null,
   "id": "3fa39e22-8098-4ca2-aeaf-50e904c64ce1",
   "metadata": {},
   "outputs": [],
   "source": []
  },
  {
   "cell_type": "code",
   "execution_count": null,
   "id": "9ebf3249-5160-48f9-886a-d77cf0dff534",
   "metadata": {},
   "outputs": [],
   "source": []
  },
  {
   "cell_type": "code",
   "execution_count": null,
   "id": "e9a2ea30-e661-4bfe-8e74-bbf9b32012b3",
   "metadata": {},
   "outputs": [],
   "source": []
  },
  {
   "cell_type": "code",
   "execution_count": null,
   "id": "8e7ab5b1-c05c-4bdf-bc19-4e99d8d9ecc8",
   "metadata": {},
   "outputs": [],
   "source": []
  },
  {
   "cell_type": "code",
   "execution_count": null,
   "id": "b3779fcc-6414-4916-8583-894460d52441",
   "metadata": {},
   "outputs": [],
   "source": []
  },
  {
   "cell_type": "code",
   "execution_count": null,
   "id": "9840824f-bfa4-4ec0-af3d-b850d509d1b7",
   "metadata": {},
   "outputs": [],
   "source": []
  },
  {
   "cell_type": "code",
   "execution_count": null,
   "id": "63cedb5c-debd-479a-b809-02c7e731f2ed",
   "metadata": {},
   "outputs": [],
   "source": []
  },
  {
   "cell_type": "code",
   "execution_count": null,
   "id": "0e11230c-9748-496c-81a4-c7ccfa1829d0",
   "metadata": {},
   "outputs": [],
   "source": []
  },
  {
   "cell_type": "code",
   "execution_count": null,
   "id": "043dc4e3-c310-4bf6-9f73-c611a1acbcff",
   "metadata": {},
   "outputs": [],
   "source": []
  },
  {
   "cell_type": "code",
   "execution_count": null,
   "id": "ea96daca-eb69-4c2f-95c3-bdf8d8579e2b",
   "metadata": {},
   "outputs": [],
   "source": []
  },
  {
   "cell_type": "code",
   "execution_count": null,
   "id": "8c170c07-87d0-490a-94dd-646112378ab8",
   "metadata": {},
   "outputs": [],
   "source": []
  },
  {
   "cell_type": "code",
   "execution_count": null,
   "id": "c082ee6e-2ffc-4722-8e40-c90f3434ce14",
   "metadata": {},
   "outputs": [],
   "source": []
  },
  {
   "cell_type": "code",
   "execution_count": null,
   "id": "3d7339d4-045a-4a8e-b780-8e8d4277c2ff",
   "metadata": {},
   "outputs": [],
   "source": []
  }
 ],
 "metadata": {
  "kernelspec": {
   "display_name": "Python 3",
   "language": "python",
   "name": "python3"
  },
  "language_info": {
   "codemirror_mode": {
    "name": "ipython",
    "version": 3
   },
   "file_extension": ".py",
   "mimetype": "text/x-python",
   "name": "python",
   "nbconvert_exporter": "python",
   "pygments_lexer": "ipython3",
   "version": "3.7.3"
  }
 },
 "nbformat": 4,
 "nbformat_minor": 5
}
