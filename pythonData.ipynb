{
 "cells": [
  {
   "cell_type": "markdown",
   "id": "28905910-adfa-4f37-a7e7-c70a68d699e4",
   "metadata": {},
   "source": [
    "## Data Analysis and Visualization in Python for Ecologists\n",
    "# Starting With Data"
   ]
  },
  {
   "cell_type": "markdown",
   "id": "9c80985d-d37d-47f0-8b4a-10defa8d090b",
   "metadata": {},
   "source": [
    "<br><br>\n",
    "#### Download the data\n",
    "**Run the next code cell to bring today's data into our Google Colab workspace.**\n",
    "<br>This is a Jupyter Notebook. To run a code cell, click in the cell and either click on the \"play\" arrow or type shift+enter (shift+return on a Mac)."
   ]
  },
  {
   "cell_type": "code",
   "execution_count": null,
   "id": "03d86241-0755-4de5-bc8f-3f9e18eca83d",
   "metadata": {},
   "outputs": [],
   "source": []
  }
 ],
 "metadata": {
  "kernelspec": {
   "display_name": "Python 3",
   "language": "python",
   "name": "python3"
  },
  "language_info": {
   "codemirror_mode": {
    "name": "ipython",
    "version": 3
   },
   "file_extension": ".py",
   "mimetype": "text/x-python",
   "name": "python",
   "nbconvert_exporter": "python",
   "pygments_lexer": "ipython3",
   "version": "3.7.3"
  }
 },
 "nbformat": 4,
 "nbformat_minor": 5
}
